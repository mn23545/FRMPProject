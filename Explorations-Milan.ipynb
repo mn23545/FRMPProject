{
 "cells": [
  {
   "cell_type": "markdown",
   "metadata": {},
   "source": [
    "# FRMP Project\n",
    "\n",
    "Words, words, words."
   ]
  },
  {
   "cell_type": "code",
   "execution_count": 38,
   "metadata": {
    "collapsed": true
   },
   "outputs": [],
   "source": [
    "%matplotlib inline"
   ]
  },
  {
   "cell_type": "code",
   "execution_count": 50,
   "metadata": {
    "collapsed": true
   },
   "outputs": [],
   "source": [
    "from collections import Counter"
   ]
  },
  {
   "cell_type": "code",
   "execution_count": 2,
   "metadata": {
    "collapsed": true
   },
   "outputs": [],
   "source": [
    "# Import local function for importing data\n",
    "from load import load_subjects"
   ]
  },
  {
   "cell_type": "markdown",
   "metadata": {},
   "source": [
    "## Settings"
   ]
  },
  {
   "cell_type": "code",
   "execution_count": 3,
   "metadata": {
    "collapsed": true
   },
   "outputs": [],
   "source": [
    "# Set data path\n",
    "data_path = '/Users/exp/Desktop/MilanData/FR1'"
   ]
  },
  {
   "cell_type": "code",
   "execution_count": 4,
   "metadata": {
    "collapsed": true
   },
   "outputs": [],
   "source": [
    "# Define list of subjects\n",
    "subjs = ['R1556J','R1555J','R1510Z','R1559Z','R1554J','R1558Z','R1511Z','R1557J','R1553J']\n",
    "\n",
    "# Define list of sessions\n",
    "sessions = [0, 1]"
   ]
  },
  {
   "cell_type": "markdown",
   "metadata": {},
   "source": [
    "## Data Loading"
   ]
  },
  {
   "cell_type": "code",
   "execution_count": 5,
   "metadata": {},
   "outputs": [
    {
     "name": "stdout",
     "output_type": "stream",
     "text": [
      "Data loaded!\n"
     ]
    }
   ],
   "source": [
    "# Load data\n",
    "df = load_subjects(subjs, sessions, data_path)\n",
    "print('Data loaded!')"
   ]
  },
  {
   "cell_type": "markdown",
   "metadata": {},
   "source": [
    "## Check Dataframe"
   ]
  },
  {
   "cell_type": "code",
   "execution_count": 6,
   "metadata": {},
   "outputs": [
    {
     "data": {
      "text/html": [
       "<div>\n",
       "<style>\n",
       "    .dataframe thead tr:only-child th {\n",
       "        text-align: right;\n",
       "    }\n",
       "\n",
       "    .dataframe thead th {\n",
       "        text-align: left;\n",
       "    }\n",
       "\n",
       "    .dataframe tbody tr th {\n",
       "        vertical-align: top;\n",
       "    }\n",
       "</style>\n",
       "<table border=\"1\" class=\"dataframe\">\n",
       "  <thead>\n",
       "    <tr style=\"text-align: right;\">\n",
       "      <th></th>\n",
       "      <th>condition</th>\n",
       "      <th>exp_group</th>\n",
       "      <th>intrus_per_trial</th>\n",
       "      <th>item_name</th>\n",
       "      <th>recalled</th>\n",
       "      <th>recorder</th>\n",
       "      <th>serialpos</th>\n",
       "      <th>session</th>\n",
       "      <th>subject</th>\n",
       "      <th>trial</th>\n",
       "      <th>type</th>\n",
       "    </tr>\n",
       "  </thead>\n",
       "  <tbody>\n",
       "    <tr>\n",
       "      <th>0</th>\n",
       "      <td>FR</td>\n",
       "      <td>Young adults</td>\n",
       "      <td>0</td>\n",
       "      <td>BEAK</td>\n",
       "      <td>1</td>\n",
       "      <td>1</td>\n",
       "      <td>1</td>\n",
       "      <td>0</td>\n",
       "      <td>R1556J</td>\n",
       "      <td>1</td>\n",
       "      <td>WORD</td>\n",
       "    </tr>\n",
       "    <tr>\n",
       "      <th>1</th>\n",
       "      <td>FR</td>\n",
       "      <td>Young adults</td>\n",
       "      <td>0</td>\n",
       "      <td>SNACK</td>\n",
       "      <td>1</td>\n",
       "      <td>2</td>\n",
       "      <td>2</td>\n",
       "      <td>0</td>\n",
       "      <td>R1556J</td>\n",
       "      <td>1</td>\n",
       "      <td>WORD</td>\n",
       "    </tr>\n",
       "    <tr>\n",
       "      <th>2</th>\n",
       "      <td>FR</td>\n",
       "      <td>Young adults</td>\n",
       "      <td>0</td>\n",
       "      <td>EEL</td>\n",
       "      <td>1</td>\n",
       "      <td>3</td>\n",
       "      <td>3</td>\n",
       "      <td>0</td>\n",
       "      <td>R1556J</td>\n",
       "      <td>1</td>\n",
       "      <td>WORD</td>\n",
       "    </tr>\n",
       "    <tr>\n",
       "      <th>3</th>\n",
       "      <td>FR</td>\n",
       "      <td>Young adults</td>\n",
       "      <td>0</td>\n",
       "      <td>LEAF</td>\n",
       "      <td>1</td>\n",
       "      <td>4</td>\n",
       "      <td>4</td>\n",
       "      <td>0</td>\n",
       "      <td>R1556J</td>\n",
       "      <td>1</td>\n",
       "      <td>WORD</td>\n",
       "    </tr>\n",
       "    <tr>\n",
       "      <th>4</th>\n",
       "      <td>FR</td>\n",
       "      <td>Young adults</td>\n",
       "      <td>0</td>\n",
       "      <td>BEEF</td>\n",
       "      <td>1</td>\n",
       "      <td>5</td>\n",
       "      <td>5</td>\n",
       "      <td>0</td>\n",
       "      <td>R1556J</td>\n",
       "      <td>1</td>\n",
       "      <td>WORD</td>\n",
       "    </tr>\n",
       "  </tbody>\n",
       "</table>\n",
       "</div>"
      ],
      "text/plain": [
       "  condition     exp_group  intrus_per_trial item_name  recalled  recorder  \\\n",
       "0        FR  Young adults                 0      BEAK         1         1   \n",
       "1        FR  Young adults                 0     SNACK         1         2   \n",
       "2        FR  Young adults                 0       EEL         1         3   \n",
       "3        FR  Young adults                 0      LEAF         1         4   \n",
       "4        FR  Young adults                 0      BEEF         1         5   \n",
       "\n",
       "   serialpos  session subject  trial  type  \n",
       "0          1        0  R1556J      1  WORD  \n",
       "1          2        0  R1556J      1  WORD  \n",
       "2          3        0  R1556J      1  WORD  \n",
       "3          4        0  R1556J      1  WORD  \n",
       "4          5        0  R1556J      1  WORD  "
      ]
     },
     "execution_count": 6,
     "metadata": {},
     "output_type": "execute_result"
    }
   ],
   "source": [
    "# Check out the dataframe - print first 5 rows with 'head'\n",
    "df.head(5)"
   ]
  },
  {
   "cell_type": "code",
   "execution_count": 7,
   "metadata": {},
   "outputs": [
    {
     "data": {
      "text/html": [
       "<div>\n",
       "<style>\n",
       "    .dataframe thead tr:only-child th {\n",
       "        text-align: right;\n",
       "    }\n",
       "\n",
       "    .dataframe thead th {\n",
       "        text-align: left;\n",
       "    }\n",
       "\n",
       "    .dataframe tbody tr th {\n",
       "        vertical-align: top;\n",
       "    }\n",
       "</style>\n",
       "<table border=\"1\" class=\"dataframe\">\n",
       "  <thead>\n",
       "    <tr style=\"text-align: right;\">\n",
       "      <th></th>\n",
       "      <th>condition</th>\n",
       "      <th>exp_group</th>\n",
       "      <th>intrus_per_trial</th>\n",
       "      <th>item_name</th>\n",
       "      <th>recalled</th>\n",
       "      <th>recorder</th>\n",
       "      <th>serialpos</th>\n",
       "      <th>session</th>\n",
       "      <th>subject</th>\n",
       "      <th>trial</th>\n",
       "      <th>type</th>\n",
       "    </tr>\n",
       "  </thead>\n",
       "  <tbody>\n",
       "    <tr>\n",
       "      <th>2455</th>\n",
       "      <td>FR_MP</td>\n",
       "      <td>Young adults</td>\n",
       "      <td>1</td>\n",
       "      <td>ARK</td>\n",
       "      <td>0</td>\n",
       "      <td>0</td>\n",
       "      <td>8</td>\n",
       "      <td>1</td>\n",
       "      <td>R1553J</td>\n",
       "      <td>12</td>\n",
       "      <td>WORD</td>\n",
       "    </tr>\n",
       "    <tr>\n",
       "      <th>2456</th>\n",
       "      <td>FR_MP</td>\n",
       "      <td>Young adults</td>\n",
       "      <td>1</td>\n",
       "      <td>MUD</td>\n",
       "      <td>0</td>\n",
       "      <td>0</td>\n",
       "      <td>9</td>\n",
       "      <td>1</td>\n",
       "      <td>R1553J</td>\n",
       "      <td>12</td>\n",
       "      <td>WORD</td>\n",
       "    </tr>\n",
       "    <tr>\n",
       "      <th>2457</th>\n",
       "      <td>FR_MP</td>\n",
       "      <td>Young adults</td>\n",
       "      <td>1</td>\n",
       "      <td>DIME</td>\n",
       "      <td>1</td>\n",
       "      <td>1</td>\n",
       "      <td>10</td>\n",
       "      <td>1</td>\n",
       "      <td>R1553J</td>\n",
       "      <td>12</td>\n",
       "      <td>WORD</td>\n",
       "    </tr>\n",
       "    <tr>\n",
       "      <th>2458</th>\n",
       "      <td>FR_MP</td>\n",
       "      <td>Young adults</td>\n",
       "      <td>1</td>\n",
       "      <td>BAG</td>\n",
       "      <td>1</td>\n",
       "      <td>2</td>\n",
       "      <td>11</td>\n",
       "      <td>1</td>\n",
       "      <td>R1553J</td>\n",
       "      <td>12</td>\n",
       "      <td>WORD</td>\n",
       "    </tr>\n",
       "    <tr>\n",
       "      <th>2459</th>\n",
       "      <td>FR_MP</td>\n",
       "      <td>Young adults</td>\n",
       "      <td>1</td>\n",
       "      <td>PLATE</td>\n",
       "      <td>0</td>\n",
       "      <td>0</td>\n",
       "      <td>12</td>\n",
       "      <td>1</td>\n",
       "      <td>R1553J</td>\n",
       "      <td>12</td>\n",
       "      <td>WORD</td>\n",
       "    </tr>\n",
       "  </tbody>\n",
       "</table>\n",
       "</div>"
      ],
      "text/plain": [
       "     condition     exp_group  intrus_per_trial item_name  recalled  recorder  \\\n",
       "2455     FR_MP  Young adults                 1       ARK         0         0   \n",
       "2456     FR_MP  Young adults                 1       MUD         0         0   \n",
       "2457     FR_MP  Young adults                 1      DIME         1         1   \n",
       "2458     FR_MP  Young adults                 1       BAG         1         2   \n",
       "2459     FR_MP  Young adults                 1     PLATE         0         0   \n",
       "\n",
       "      serialpos  session subject  trial  type  \n",
       "2455          8        1  R1553J     12  WORD  \n",
       "2456          9        1  R1553J     12  WORD  \n",
       "2457         10        1  R1553J     12  WORD  \n",
       "2458         11        1  R1553J     12  WORD  \n",
       "2459         12        1  R1553J     12  WORD  "
      ]
     },
     "execution_count": 7,
     "metadata": {},
     "output_type": "execute_result"
    }
   ],
   "source": [
    "# Check out the dataframe - print last 5 rows with 'tail'\n",
    "df.tail(5)"
   ]
  },
  {
   "cell_type": "code",
   "execution_count": 8,
   "metadata": {},
   "outputs": [
    {
     "name": "stdout",
     "output_type": "stream",
     "text": [
      "Number of rows:\t\t 2460\n",
      "Number of columns:\t 11\n"
     ]
    }
   ],
   "source": [
    "# Check how many rows and columns are in the dataframe, from it's shape\n",
    "n_rows, n_cols = df.shape\n",
    "print('Number of rows:\\t\\t', n_rows)\n",
    "print('Number of columns:\\t', n_cols)"
   ]
  },
  {
   "cell_type": "code",
   "execution_count": 9,
   "metadata": {},
   "outputs": [
    {
     "data": {
      "text/plain": [
       "Index(['condition', 'exp_group', 'intrus_per_trial', 'item_name', 'recalled',\n",
       "       'recorder', 'serialpos', 'session', 'subject', 'trial', 'type'],\n",
       "      dtype='object')"
      ]
     },
     "execution_count": 9,
     "metadata": {},
     "output_type": "execute_result"
    }
   ],
   "source": [
    "# Check the columns\n",
    "df.columns"
   ]
  },
  {
   "cell_type": "markdown",
   "metadata": {},
   "source": [
    "## Explore Columns"
   ]
  },
  {
   "cell_type": "code",
   "execution_count": 10,
   "metadata": {},
   "outputs": [
    {
     "data": {
      "text/plain": [
       "{'FR', 'FR_MP'}"
      ]
     },
     "execution_count": 10,
     "metadata": {},
     "output_type": "execute_result"
    }
   ],
   "source": [
    "# Check the unique elements in `condition` using a set\n",
    "set(df.condition)"
   ]
  },
  {
   "cell_type": "code",
   "execution_count": 11,
   "metadata": {},
   "outputs": [
    {
     "data": {
      "text/plain": [
       "FR       1284\n",
       "FR_MP    1176\n",
       "Name: condition, dtype: int64"
      ]
     },
     "execution_count": 11,
     "metadata": {},
     "output_type": "execute_result"
    }
   ],
   "source": [
    "# Check the counts for each condition\n",
    "df.condition.value_counts()"
   ]
  },
  {
   "cell_type": "markdown",
   "metadata": {},
   "source": [
    "## TODO - Explore data\n",
    "\n",
    "For columns that are categories (exp_group, session, subject):\n",
    "- check the elements (like we did with condition)"
   ]
  },
  {
   "cell_type": "markdown",
   "metadata": {},
   "source": [
    "### String Columns"
   ]
  },
  {
   "cell_type": "code",
   "execution_count": 22,
   "metadata": {},
   "outputs": [
    {
     "data": {
      "text/plain": [
       "{'Teenagers', 'Young adults'}"
      ]
     },
     "execution_count": 22,
     "metadata": {},
     "output_type": "execute_result"
    }
   ],
   "source": [
    "# Check out the 'exp_group' column\n",
    "set(df.exp_group)"
   ]
  },
  {
   "cell_type": "code",
   "execution_count": 23,
   "metadata": {},
   "outputs": [
    {
     "data": {
      "text/plain": [
       "Young adults    1380\n",
       "Teenagers       1080\n",
       "Name: exp_group, dtype: int64"
      ]
     },
     "execution_count": 23,
     "metadata": {},
     "output_type": "execute_result"
    }
   ],
   "source": [
    "df.exp_group.value_counts()"
   ]
  },
  {
   "cell_type": "code",
   "execution_count": 27,
   "metadata": {},
   "outputs": [
    {
     "data": {
      "text/plain": [
       "{'R1510Z',\n",
       " 'R1511Z',\n",
       " 'R1553J',\n",
       " 'R1554J',\n",
       " 'R1555J',\n",
       " 'R1556J',\n",
       " 'R1557J',\n",
       " 'R1558Z',\n",
       " 'R1559Z'}"
      ]
     },
     "execution_count": 27,
     "metadata": {},
     "output_type": "execute_result"
    }
   ],
   "source": [
    "# Check out the 'subject' column\n",
    "set(df.subject)"
   ]
  },
  {
   "cell_type": "code",
   "execution_count": 31,
   "metadata": {},
   "outputs": [
    {
     "name": "stdout",
     "output_type": "stream",
     "text": [
      "R1553J\n",
      "R1555J\n",
      "R1556J\n",
      "R1557J\n",
      "R1554J\n"
     ]
    }
   ],
   "source": [
    "# Count how many J vs Z subjects you have\n",
    "n_js = 0\n",
    "for subj in set(df.subject):\n",
    "    if 'J' in subj:\n",
    "        # ToDo: Figure out how to count \n",
    "        # Clue: update `n_js` to count\n",
    "        print(subj)"
   ]
  },
  {
   "cell_type": "code",
   "execution_count": 26,
   "metadata": {
    "collapsed": true
   },
   "outputs": [],
   "source": [
    "# Check if the number of subjects and the number of `exp_group` counts lines up\n",
    "#   The expected number per group is `n_subjects` * `n_session` * `n_trials` * `12`\n",
    "..."
   ]
  },
  {
   "cell_type": "markdown",
   "metadata": {},
   "source": [
    "Note: the above might not line up! \n",
    "\n",
    "If so, comment on why!!"
   ]
  },
  {
   "cell_type": "code",
   "execution_count": 16,
   "metadata": {
    "collapsed": true
   },
   "outputs": [],
   "source": [
    "# Check out the 'session' column\n",
    "..."
   ]
  },
  {
   "cell_type": "markdown",
   "metadata": {},
   "source": [
    "For the column that stores words, check the set of all words:"
   ]
  },
  {
   "cell_type": "code",
   "execution_count": 18,
   "metadata": {},
   "outputs": [],
   "source": [
    "# Check out the 'item_name' column\n",
    "..."
   ]
  },
  {
   "cell_type": "markdown",
   "metadata": {},
   "source": [
    "### Numerical Columns"
   ]
  },
  {
   "cell_type": "code",
   "execution_count": 39,
   "metadata": {},
   "outputs": [
    {
     "data": {
      "text/plain": [
       "<matplotlib.axes._subplots.AxesSubplot at 0x112844828>"
      ]
     },
     "execution_count": 39,
     "metadata": {},
     "output_type": "execute_result"
    },
    {
     "data": {
      "image/png": "[encoded data removed]",
      "text/plain": [
       "<matplotlib.figure.Figure at 0x1127baba8>"
      ]
     },
     "metadata": {},
     "output_type": "display_data"
    }
   ],
   "source": [
    "# Check the set of values in instrusions\n",
    "df.intrus_per_trial.hist()"
   ]
  },
  {
   "cell_type": "markdown",
   "metadata": {},
   "source": [
    "ToDo: check the set of values across other numerical columns {recalled, recorder, serialpos}"
   ]
  },
  {
   "cell_type": "code",
   "execution_count": 49,
   "metadata": {},
   "outputs": [
    {
     "data": {
      "text/plain": [
       "<matplotlib.axes._subplots.AxesSubplot at 0x11320bac8>"
      ]
     },
     "execution_count": 49,
     "metadata": {},
     "output_type": "execute_result"
    },
    {
     "data": {
      "image/png": "[encoded data removed]",
      "text/plain": [
       "<matplotlib.figure.Figure at 0x11316dac8>"
      ]
     },
     "metadata": {},
     "output_type": "display_data"
    }
   ],
   "source": [
    "# Check \n",
    "df.recorder.hist(bins=13)"
   ]
  },
  {
   "cell_type": "code",
   "execution_count": 51,
   "metadata": {},
   "outputs": [
    {
     "data": {
      "text/plain": [
       "Counter({0: 1243,\n",
       "         1: 197,\n",
       "         2: 196,\n",
       "         3: 193,\n",
       "         4: 174,\n",
       "         5: 152,\n",
       "         6: 114,\n",
       "         7: 80,\n",
       "         8: 47,\n",
       "         9: 30,\n",
       "         10: 19,\n",
       "         11: 11,\n",
       "         12: 4})"
      ]
     },
     "execution_count": 51,
     "metadata": {},
     "output_type": "execute_result"
    }
   ],
   "source": [
    "# Top tip: you can count the number of elements with `Counter`\n",
    "Counter(df.recorder)"
   ]
  },
  {
   "cell_type": "code",
   "execution_count": null,
   "metadata": {
    "collapsed": true
   },
   "outputs": [],
   "source": [
    "# ToDo: write some notes explaining the data in `df.recorder`"
   ]
  },
  {
   "cell_type": "markdown",
   "metadata": {},
   "source": [
    "## Do Analyses!\n",
    "\n",
    "..."
   ]
  },
  {
   "cell_type": "markdown",
   "metadata": {},
   "source": [
    "## Overall Analyses"
   ]
  },
  {
   "cell_type": "code",
   "execution_count": 53,
   "metadata": {
    "collapsed": true
   },
   "outputs": [],
   "source": [
    "# What is the total number of recalled words\n",
    "..."
   ]
  },
  {
   "cell_type": "markdown",
   "metadata": {},
   "source": [
    "Percentage: count / total * 100"
   ]
  },
  {
   "cell_type": "code",
   "execution_count": 54,
   "metadata": {
    "collapsed": true
   },
   "outputs": [],
   "source": [
    "# What is the total percentage of recalled words\n",
    "..."
   ]
  },
  {
   "cell_type": "markdown",
   "metadata": {},
   "source": [
    "## Group Analyses"
   ]
  },
  {
   "cell_type": "code",
   "execution_count": 64,
   "metadata": {},
   "outputs": [
    {
     "data": {
      "text/html": [
       "<div>\n",
       "<style>\n",
       "    .dataframe thead tr:only-child th {\n",
       "        text-align: right;\n",
       "    }\n",
       "\n",
       "    .dataframe thead th {\n",
       "        text-align: left;\n",
       "    }\n",
       "\n",
       "    .dataframe tbody tr th {\n",
       "        vertical-align: top;\n",
       "    }\n",
       "</style>\n",
       "<table border=\"1\" class=\"dataframe\">\n",
       "  <thead>\n",
       "    <tr style=\"text-align: right;\">\n",
       "      <th></th>\n",
       "      <th>intrus_per_trial</th>\n",
       "      <th>recalled</th>\n",
       "    </tr>\n",
       "    <tr>\n",
       "      <th>exp_group</th>\n",
       "      <th></th>\n",
       "      <th></th>\n",
       "    </tr>\n",
       "  </thead>\n",
       "  <tbody>\n",
       "    <tr>\n",
       "      <th>Teenagers</th>\n",
       "      <td>0.300000</td>\n",
       "      <td>0.495370</td>\n",
       "    </tr>\n",
       "    <tr>\n",
       "      <th>Young adults</th>\n",
       "      <td>0.356522</td>\n",
       "      <td>0.494203</td>\n",
       "    </tr>\n",
       "  </tbody>\n",
       "</table>\n",
       "</div>"
      ],
      "text/plain": [
       "              intrus_per_trial  recalled\n",
       "exp_group                               \n",
       "Teenagers             0.300000  0.495370\n",
       "Young adults          0.356522  0.494203"
      ]
     },
     "execution_count": 64,
     "metadata": {},
     "output_type": "execute_result"
    }
   ],
   "source": [
    "# Pandas shortcut: group by exp_group, calculate the mean intrusions & recalled\n",
    "df.groupby('exp_group')[['intrus_per_trial', 'recalled']].mean()"
   ]
  },
  {
   "cell_type": "code",
   "execution_count": 85,
   "metadata": {},
   "outputs": [],
   "source": [
    "# Hint: select data from a dataframe based on value\n",
    "teen_group = df[df.exp_group == 'Teenagers']"
   ]
  },
  {
   "cell_type": "markdown",
   "metadata": {},
   "source": [
    "ToDo: compute number of recalled and percentage recalled per group"
   ]
  },
  {
   "cell_type": "code",
   "execution_count": null,
   "metadata": {
    "collapsed": true
   },
   "outputs": [],
   "source": [
    "..."
   ]
  },
  {
   "cell_type": "markdown",
   "metadata": {},
   "source": [
    "## Subject Analyses\n",
    "\n",
    "Select a subject, compute number of recalled and percent recalled."
   ]
  },
  {
   "cell_type": "code",
   "execution_count": null,
   "metadata": {
    "collapsed": true
   },
   "outputs": [],
   "source": []
  },
  {
   "cell_type": "markdown",
   "metadata": {},
   "source": [
    "## NEXT: Compute the performance, split by condition\n",
    "\n",
    "Calculate the performance per condition {FR vs. FR_MP}\n",
    "\n",
    "Then calculate the performance per condition, split up by group. \n",
    "\n",
    "What is the change in performance between conditions?\n",
    "\n",
    "Is it different by group?"
   ]
  },
  {
   "cell_type": "code",
   "execution_count": 90,
   "metadata": {
    "collapsed": true
   },
   "outputs": [],
   "source": [
    "# Hint: you can do multiple selections: select by group, then select by condition (in a two step process).\n",
    "#   For example, if you've selected by group to get `teen_group` you can then select by condition\n",
    "teen_group_fr = teen_group[teen_group.condition == 'FR']"
   ]
  },
  {
   "cell_type": "code",
   "execution_count": null,
   "metadata": {
    "collapsed": true
   },
   "outputs": [],
   "source": []
  }
 ],
 "metadata": {
  "kernelspec": {
   "display_name": "Python 3",
   "language": "python",
   "name": "python3"
  },
  "language_info": {
   "codemirror_mode": {
    "name": "ipython",
    "version": 3
   },
   "file_extension": ".py",
   "mimetype": "text/x-python",
   "name": "python",
   "nbconvert_exporter": "python",
   "pygments_lexer": "ipython3",
   "version": "3.6.2"
  }
 },
 "nbformat": 4,
 "nbformat_minor": 2
}
