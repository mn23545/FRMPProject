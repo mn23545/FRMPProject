{
 "cells": [
  {
   "cell_type": "markdown",
   "metadata": {},
   "source": [
    "# FRMP Project\n",
    "\n",
    "Words, words, words."
   ]
  },
  {
   "cell_type": "code",
   "execution_count": 8,
   "metadata": {
    "collapsed": true
   },
   "outputs": [],
   "source": [
    "# Import local function for importing data\n",
    "from load import load_subjects"
   ]
  },
  {
   "cell_type": "markdown",
   "metadata": {},
   "source": [
    "## Settings"
   ]
  },
  {
   "cell_type": "code",
   "execution_count": 9,
   "metadata": {
    "collapsed": true
   },
   "outputs": [],
   "source": [
    "# Set data path\n",
    "data_path = '/Users/exp/Desktop/MilanData/FR1'"
   ]
  },
  {
   "cell_type": "code",
   "execution_count": 4,
   "metadata": {
    "collapsed": true
   },
   "outputs": [],
   "source": [
    "# Define list of subjects\n",
    "subjs = ['R1556J','R1555J','R1510Z','R1559Z','R1554J','R1558Z','R1511Z','R1557J','R1553J']\n",
    "\n",
    "# Define list of sessions\n",
    "sessions = [0, 1]"
   ]
  },
  {
   "cell_type": "markdown",
   "metadata": {},
   "source": [
    "## Data Loading"
   ]
  },
  {
   "cell_type": "code",
   "execution_count": 10,
   "metadata": {},
   "outputs": [
    {
     "name": "stdout",
     "output_type": "stream",
     "text": [
      "Done!\n"
     ]
    }
   ],
   "source": [
    "# Load data\n",
    "df = load_subjects(subjs, sessions, data_path)\n",
    "print('Data loaded!')"
   ]
  },
  {
   "cell_type": "markdown",
   "metadata": {},
   "source": [
    "## Check Dataframe"
   ]
  },
  {
   "cell_type": "code",
   "execution_count": 21,
   "metadata": {},
   "outputs": [
    {
     "data": {
      "text/html": [
       "<div>\n",
       "<style>\n",
       "    .dataframe thead tr:only-child th {\n",
       "        text-align: right;\n",
       "    }\n",
       "\n",
       "    .dataframe thead th {\n",
       "        text-align: left;\n",
       "    }\n",
       "\n",
       "    .dataframe tbody tr th {\n",
       "        vertical-align: top;\n",
       "    }\n",
       "</style>\n",
       "<table border=\"1\" class=\"dataframe\">\n",
       "  <thead>\n",
       "    <tr style=\"text-align: right;\">\n",
       "      <th></th>\n",
       "      <th>condition</th>\n",
       "      <th>exp_group</th>\n",
       "      <th>intrus_per_trial</th>\n",
       "      <th>item_name</th>\n",
       "      <th>recalled</th>\n",
       "      <th>recorder</th>\n",
       "      <th>serialpos</th>\n",
       "      <th>session</th>\n",
       "      <th>subject</th>\n",
       "      <th>trial</th>\n",
       "      <th>type</th>\n",
       "    </tr>\n",
       "  </thead>\n",
       "  <tbody>\n",
       "    <tr>\n",
       "      <th>0</th>\n",
       "      <td>FR</td>\n",
       "      <td>Young adults</td>\n",
       "      <td>0</td>\n",
       "      <td>BEAK</td>\n",
       "      <td>1</td>\n",
       "      <td>1</td>\n",
       "      <td>1</td>\n",
       "      <td>0</td>\n",
       "      <td>R1556J</td>\n",
       "      <td>1</td>\n",
       "      <td>WORD</td>\n",
       "    </tr>\n",
       "    <tr>\n",
       "      <th>1</th>\n",
       "      <td>FR</td>\n",
       "      <td>Young adults</td>\n",
       "      <td>0</td>\n",
       "      <td>SNACK</td>\n",
       "      <td>1</td>\n",
       "      <td>2</td>\n",
       "      <td>2</td>\n",
       "      <td>0</td>\n",
       "      <td>R1556J</td>\n",
       "      <td>1</td>\n",
       "      <td>WORD</td>\n",
       "    </tr>\n",
       "    <tr>\n",
       "      <th>2</th>\n",
       "      <td>FR</td>\n",
       "      <td>Young adults</td>\n",
       "      <td>0</td>\n",
       "      <td>EEL</td>\n",
       "      <td>1</td>\n",
       "      <td>3</td>\n",
       "      <td>3</td>\n",
       "      <td>0</td>\n",
       "      <td>R1556J</td>\n",
       "      <td>1</td>\n",
       "      <td>WORD</td>\n",
       "    </tr>\n",
       "    <tr>\n",
       "      <th>3</th>\n",
       "      <td>FR</td>\n",
       "      <td>Young adults</td>\n",
       "      <td>0</td>\n",
       "      <td>LEAF</td>\n",
       "      <td>1</td>\n",
       "      <td>4</td>\n",
       "      <td>4</td>\n",
       "      <td>0</td>\n",
       "      <td>R1556J</td>\n",
       "      <td>1</td>\n",
       "      <td>WORD</td>\n",
       "    </tr>\n",
       "    <tr>\n",
       "      <th>4</th>\n",
       "      <td>FR</td>\n",
       "      <td>Young adults</td>\n",
       "      <td>0</td>\n",
       "      <td>BEEF</td>\n",
       "      <td>1</td>\n",
       "      <td>5</td>\n",
       "      <td>5</td>\n",
       "      <td>0</td>\n",
       "      <td>R1556J</td>\n",
       "      <td>1</td>\n",
       "      <td>WORD</td>\n",
       "    </tr>\n",
       "  </tbody>\n",
       "</table>\n",
       "</div>"
      ],
      "text/plain": [
       "  condition     exp_group  intrus_per_trial item_name  recalled  recorder  \\\n",
       "0        FR  Young adults                 0      BEAK         1         1   \n",
       "1        FR  Young adults                 0     SNACK         1         2   \n",
       "2        FR  Young adults                 0       EEL         1         3   \n",
       "3        FR  Young adults                 0      LEAF         1         4   \n",
       "4        FR  Young adults                 0      BEEF         1         5   \n",
       "\n",
       "   serialpos  session subject  trial  type  \n",
       "0          1        0  R1556J      1  WORD  \n",
       "1          2        0  R1556J      1  WORD  \n",
       "2          3        0  R1556J      1  WORD  \n",
       "3          4        0  R1556J      1  WORD  \n",
       "4          5        0  R1556J      1  WORD  "
      ]
     },
     "execution_count": 21,
     "metadata": {},
     "output_type": "execute_result"
    }
   ],
   "source": [
    "# Check out the dataframe - print first 5 rows with 'head'\n",
    "df.head(5)"
   ]
  },
  {
   "cell_type": "code",
   "execution_count": 22,
   "metadata": {},
   "outputs": [
    {
     "data": {
      "text/html": [
       "<div>\n",
       "<style>\n",
       "    .dataframe thead tr:only-child th {\n",
       "        text-align: right;\n",
       "    }\n",
       "\n",
       "    .dataframe thead th {\n",
       "        text-align: left;\n",
       "    }\n",
       "\n",
       "    .dataframe tbody tr th {\n",
       "        vertical-align: top;\n",
       "    }\n",
       "</style>\n",
       "<table border=\"1\" class=\"dataframe\">\n",
       "  <thead>\n",
       "    <tr style=\"text-align: right;\">\n",
       "      <th></th>\n",
       "      <th>condition</th>\n",
       "      <th>exp_group</th>\n",
       "      <th>intrus_per_trial</th>\n",
       "      <th>item_name</th>\n",
       "      <th>recalled</th>\n",
       "      <th>recorder</th>\n",
       "      <th>serialpos</th>\n",
       "      <th>session</th>\n",
       "      <th>subject</th>\n",
       "      <th>trial</th>\n",
       "      <th>type</th>\n",
       "    </tr>\n",
       "  </thead>\n",
       "  <tbody>\n",
       "    <tr>\n",
       "      <th>2455</th>\n",
       "      <td>FR_MP</td>\n",
       "      <td>Young adults</td>\n",
       "      <td>1</td>\n",
       "      <td>ARK</td>\n",
       "      <td>0</td>\n",
       "      <td>0</td>\n",
       "      <td>8</td>\n",
       "      <td>1</td>\n",
       "      <td>R1553J</td>\n",
       "      <td>12</td>\n",
       "      <td>WORD</td>\n",
       "    </tr>\n",
       "    <tr>\n",
       "      <th>2456</th>\n",
       "      <td>FR_MP</td>\n",
       "      <td>Young adults</td>\n",
       "      <td>1</td>\n",
       "      <td>MUD</td>\n",
       "      <td>0</td>\n",
       "      <td>0</td>\n",
       "      <td>9</td>\n",
       "      <td>1</td>\n",
       "      <td>R1553J</td>\n",
       "      <td>12</td>\n",
       "      <td>WORD</td>\n",
       "    </tr>\n",
       "    <tr>\n",
       "      <th>2457</th>\n",
       "      <td>FR_MP</td>\n",
       "      <td>Young adults</td>\n",
       "      <td>1</td>\n",
       "      <td>DIME</td>\n",
       "      <td>1</td>\n",
       "      <td>1</td>\n",
       "      <td>10</td>\n",
       "      <td>1</td>\n",
       "      <td>R1553J</td>\n",
       "      <td>12</td>\n",
       "      <td>WORD</td>\n",
       "    </tr>\n",
       "    <tr>\n",
       "      <th>2458</th>\n",
       "      <td>FR_MP</td>\n",
       "      <td>Young adults</td>\n",
       "      <td>1</td>\n",
       "      <td>BAG</td>\n",
       "      <td>1</td>\n",
       "      <td>2</td>\n",
       "      <td>11</td>\n",
       "      <td>1</td>\n",
       "      <td>R1553J</td>\n",
       "      <td>12</td>\n",
       "      <td>WORD</td>\n",
       "    </tr>\n",
       "    <tr>\n",
       "      <th>2459</th>\n",
       "      <td>FR_MP</td>\n",
       "      <td>Young adults</td>\n",
       "      <td>1</td>\n",
       "      <td>PLATE</td>\n",
       "      <td>0</td>\n",
       "      <td>0</td>\n",
       "      <td>12</td>\n",
       "      <td>1</td>\n",
       "      <td>R1553J</td>\n",
       "      <td>12</td>\n",
       "      <td>WORD</td>\n",
       "    </tr>\n",
       "  </tbody>\n",
       "</table>\n",
       "</div>"
      ],
      "text/plain": [
       "     condition     exp_group  intrus_per_trial item_name  recalled  recorder  \\\n",
       "2455     FR_MP  Young adults                 1       ARK         0         0   \n",
       "2456     FR_MP  Young adults                 1       MUD         0         0   \n",
       "2457     FR_MP  Young adults                 1      DIME         1         1   \n",
       "2458     FR_MP  Young adults                 1       BAG         1         2   \n",
       "2459     FR_MP  Young adults                 1     PLATE         0         0   \n",
       "\n",
       "      serialpos  session subject  trial  type  \n",
       "2455          8        1  R1553J     12  WORD  \n",
       "2456          9        1  R1553J     12  WORD  \n",
       "2457         10        1  R1553J     12  WORD  \n",
       "2458         11        1  R1553J     12  WORD  \n",
       "2459         12        1  R1553J     12  WORD  "
      ]
     },
     "execution_count": 22,
     "metadata": {},
     "output_type": "execute_result"
    }
   ],
   "source": [
    "# Check out the dataframe - print last 5 rows with 'tail'\n",
    "df.tail(5)"
   ]
  },
  {
   "cell_type": "code",
   "execution_count": 48,
   "metadata": {},
   "outputs": [
    {
     "name": "stdout",
     "output_type": "stream",
     "text": [
      "Number of rows:\t\t 2460\n",
      "Number of columns:\t 11\n"
     ]
    }
   ],
   "source": [
    "# Check how many rows and columns are in the dataframe, from it's shape\n",
    "n_rows, n_cols = df.shape\n",
    "print('Number of rows:\\t\\t', n_rows)\n",
    "print('Number of columns:\\t', n_cols)"
   ]
  },
  {
   "cell_type": "code",
   "execution_count": 49,
   "metadata": {},
   "outputs": [
    {
     "data": {
      "text/plain": [
       "Index(['condition', 'exp_group', 'intrus_per_trial', 'item_name', 'recalled',\n",
       "       'recorder', 'serialpos', 'session', 'subject', 'trial', 'type'],\n",
       "      dtype='object')"
      ]
     },
     "execution_count": 49,
     "metadata": {},
     "output_type": "execute_result"
    }
   ],
   "source": [
    "# Check the columns\n",
    "df.columns"
   ]
  },
  {
   "cell_type": "markdown",
   "metadata": {},
   "source": [
    "## Explore Columns"
   ]
  },
  {
   "cell_type": "code",
   "execution_count": 34,
   "metadata": {},
   "outputs": [
    {
     "data": {
      "text/plain": [
       "{'FR', 'FR_MP'}"
      ]
     },
     "execution_count": 34,
     "metadata": {},
     "output_type": "execute_result"
    }
   ],
   "source": [
    "# Check the unique elements in `condition` using a set\n",
    "set(df.condition)"
   ]
  },
  {
   "cell_type": "code",
   "execution_count": 37,
   "metadata": {},
   "outputs": [
    {
     "data": {
      "text/plain": [
       "FR       1284\n",
       "FR_MP    1176\n",
       "Name: condition, dtype: int64"
      ]
     },
     "execution_count": 37,
     "metadata": {},
     "output_type": "execute_result"
    }
   ],
   "source": [
    "# Check the counts for each condition\n",
    "df.condition.value_counts()"
   ]
  },
  {
   "cell_type": "markdown",
   "metadata": {},
   "source": [
    "## Do Analyses!\n",
    "\n",
    "..."
   ]
  },
  {
   "cell_type": "code",
   "execution_count": null,
   "metadata": {
    "collapsed": true
   },
   "outputs": [],
   "source": []
  }
 ],
 "metadata": {
  "kernelspec": {
   "display_name": "Python 3",
   "language": "python",
   "name": "python3"
  },
  "language_info": {
   "codemirror_mode": {
    "name": "ipython",
    "version": 3
   },
   "file_extension": ".py",
   "mimetype": "text/x-python",
   "name": "python",
   "nbconvert_exporter": "python",
   "pygments_lexer": "ipython3",
   "version": "3.6.2"
  }
 },
 "nbformat": 4,
 "nbformat_minor": 2
}
